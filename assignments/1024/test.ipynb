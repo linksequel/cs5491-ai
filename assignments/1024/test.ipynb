{
 "cells": [
  {
   "cell_type": "code",
   "execution_count": 6,
   "id": "e3746ebd",
   "metadata": {},
   "outputs": [
    {
     "name": "stdout",
     "output_type": "stream",
     "text": [
      "[ 6.07730356  5.94311465  8.08173494 ... 10.37719473  5.82881632\n",
      "  5.88645772]\n",
      "1000000\n"
     ]
    }
   ],
   "source": [
    "import numpy as np\n",
    "sims = 1000000\n",
    "A = np.random.uniform(1, 5, sims)\n",
    "B = np.random.uniform(2, 6, sims)\n",
    "duration = A + B\n",
    "print(duration)\n",
    "print(len(duration))"
   ]
  },
  {
   "cell_type": "code",
   "execution_count": 7,
   "id": "05092176",
   "metadata": {},
   "outputs": [
    {
     "data": {
      "image/png": "[encoded data removed]",
      "text/plain": [
       "<Figure size 300x150 with 1 Axes>"
      ]
     },
     "metadata": {},
     "output_type": "display_data"
    },
    {
     "name": "stdout",
     "output_type": "stream",
     "text": [
      "0.124653\n"
     ]
    }
   ],
   "source": [
    "import matplotlib.pyplot as plt\n",
    "plt.figure(figsize = (3, 1.5))\n",
    "plt.hist(duration, density = True)\n",
    "plt.axvline(9, color = 'r')\n",
    "plt.show()\n",
    "print((duration > 9).sum()/sims)"
   ]
  }
 ],
 "metadata": {
  "kernelspec": {
   "display_name": "cityu",
   "language": "python",
   "name": "python3"
  },
  "language_info": {
   "codemirror_mode": {
    "name": "ipython",
    "version": 3
   },
   "file_extension": ".py",
   "mimetype": "text/x-python",
   "name": "python",
   "nbconvert_exporter": "python",
   "pygments_lexer": "ipython3",
   "version": "3.12.4"
  }
 },
 "nbformat": 4,
 "nbformat_minor": 5
}
